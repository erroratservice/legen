{
 "cells": [
  {
   "cell_type": "code",
   "execution_count": null,
   "metadata": {},
   "outputs": [],
   "source": [
    "#@title *Prepare* { display-mode: \"form\", run: \"auto\" }\n",
    "#@markdown # **Prepare the environment**\n",
    "mount_gdrive = True #@param {type:\"boolean\"}\n",
    "force_remount = False #@param {type:\"boolean\"}\n",
    "!rm -rf error_log.txt > /dev/null\n",
    "import os\n",
    "import subprocess\n",
    "from google.colab import drive\n",
    "if mount_gdrive:\n",
    "    print(\"Mounting your Google Drive | Waiting user Allow Access | \", end='')\n",
    "    try:\n",
    "        drive.mount('/content/drive/', force_remount=force_remount)\n",
    "    except Exception as e:\n",
    "        print(f\"[✗]: {e}\")\n",
    "\n",
    "print(\"Ensuring the LeGen code is existing and updated...\", end='')\n",
    "repo_url = \"https://github.com/matheusbach/legen.git\"\n",
    "local_folder = \"/content/src\"\n",
    "os.makedirs(local_folder, exist_ok=True)\n",
    "git_task = \"git fetch\"\n",
    "process = subprocess.Popen(git_task, cwd=local_folder, shell=True)\n",
    "return_code = process.wait()\n",
    "if return_code == 0:\n",
    "  git_task = \"git fetch && git reset --hard origin/main && git pull\"\n",
    "else:\n",
    "  !rm -rf local_folder > /dev/null\n",
    "  os.makedirs(local_folder, exist_ok=True)\n",
    "  git_task = f\"git clone {repo_url} {local_folder}\"\n",
    "with open('/content/error_log.txt', 'a') as f:\n",
    "    process = subprocess.Popen(git_task, cwd=local_folder, shell=True, stderr=f)\n",
    "    return_code = process.wait()\n",
    "    print(\"[✔]\" if return_code == 0 else \"[✗]\")\n",
    "\n",
    "print(\"Installing or updating pip requirements...\", end='')\n",
    "with open('/content/error_log.txt', 'a') as f:\n",
    "    process = subprocess.Popen('pip3 install --upgrade -r requirements.txt', cwd=local_folder, shell=True, stderr=f)\n",
    "    return_code = process.wait()\n",
    "    print(\"[✔]\" if return_code == 0 else \"[✗]\")\n",
    "\n",
    "print(\"Install libcudnn8...\", end='')\n",
    "with open('/content/error_log.txt', 'a') as f:\n",
    "    process = subprocess.Popen('sudo apt install -y libcudnn8', cwd=local_folder, shell=True, stderr=f)\n",
    "    return_code = process.wait()\n",
    "    print(\"[✔]\" if return_code == 0 else \"[✗]\")\n",
    "\n",
    "print(\"Installing FFmpeg and xvfb...\", end='')\n",
    "with open('/content/error_log.txt', 'a') as f:\n",
    "    process = subprocess.Popen('apt update -y ; apt install ffmpeg xvfb -y', shell=True, stderr=f)\n",
    "    return_code = process.wait()\n",
    "    print(\"[✔]\" if return_code == 0 else \"[✗]\")\n",
    "\n",
    "print(\"Installing fonts...\", end='')\n",
    "with open('/content/error_log.txt', ' 'a') as f:\n",
    "    process = subprocess.Popen('echo ttf-mscorefonts-installer msttcorefonts/accepted-mscorefonts-eula select true | debconf-set-selections && apt install -y ttf-mscorefonts-installer && fc-cache -fv', shell=True, stderr=f)\n",
    "    return_code = process.wait()\n",
    "    print(\"[✔]\" if return_code == 0 else \"[✗]\")\n",
    "\n",
    "os.system('Xvfb :1 -screen 0 2560x1440x8  &')\n",
    "os.environ['DISPLAY'] = ':1.0'\n",
    "print(\"\\nPreparation tasks done.\")"
   ]
  },
  {
   "cell_type": "code",
   "execution_count": null,
   "metadata": {},
   "outputs": [],
   "source": [
    "#@title *Configure* { display-mode: \"form\", run: \"auto\" }\n",
    "#@markdown # **Define Software Settings**\n",
    "#@markdown Set where your files are located (your Drive is the base /content/drive/MyDrive):\n",
    "import os\n",
    "input_path = \"/content/drive/MyDrive/LeGen/media\" #@param {type:\"string\"}\n",
    "#@markdown Set where encoded video/audio files will be saved:\n",
    "output_dir = \"/content/drive/MyDrive/LeGen/encoded\" #@param {type:\"string\"}\n",
    "#@markdown Overwrite output files if they exist?\n",
    "overwrite = False #@param {type:\"boolean\"}\n",
    "#@markdown Copy non-video/audio files to output?\n",
    "copy_extra_files = True #@param {type:\"boolean\"}\n",
    "#@markdown Maximum parallel encodes (T4: 2-3 is optimal):\n",
    "max_workers = 2 #@param {type:\"integer\"}\n"
   ]
  },
  {
   "cell_type": "code",
   "execution_count": null,
   "metadata": {},
   "outputs": [],
   "source": [
    "#@title *Run* { display-mode: \"form\" }\n",
    "#@markdown # **Run Video Encoder**\n",
    "print(\"Starting LeGen Video Encoder...\")\n",
    "os.makedirs(input_path, exist_ok=True)\n",
    "os.makedirs(output_dir, exist_ok=True)\n",
    "\n",
    "query = f\" -i '{input_path}' --output_dir '{output_dir}'\"\n",
    "query += \" --overwrite\" if overwrite else \"\"\n",
    "query += \" --copy_files\" if copy_extra_files else \"\"\n",
    "query += f\" --max_workers {max_workers}\"\n",
    "print(f\"command line: python3 /content/src/legen.py {query}\\n\")\n",
    "!python3 /content/src/legen.py $query"
   ]
  }
 ],
 "metadata": {
  "accelerator": "GPU",
  "colab": {
   "gpuType": "T4",
   "provenance": []
  },
  "kernelspec": {
   "display_name": "Python 3",
   "name": "python3"
  },
  "language_info": {
   "name": "python"
  }
 },
 "nbformat": 4,
 "nbformat_minor": 0
}
